{
 "cells": [
  {
   "cell_type": "code",
   "execution_count": 8,
   "id": "9bb1885a",
   "metadata": {},
   "outputs": [
    {
     "name": "stdout",
     "output_type": "stream",
     "text": [
      "Requirement already satisfied: transformers==4.37.2 in ./.conda/lib/python3.10/site-packages (4.37.2)\n",
      "Collecting peft==0.7.1\n",
      "  Using cached peft-0.7.1-py3-none-any.whl.metadata (25 kB)\n",
      "Requirement already satisfied: accelerate==0.27.2 in ./.conda/lib/python3.10/site-packages (0.27.2)\n",
      "Requirement already satisfied: bitsandbytes in ./.conda/lib/python3.10/site-packages (0.45.5)\n",
      "Requirement already satisfied: sentencepiece in ./.conda/lib/python3.10/site-packages (0.1.99)\n",
      "Requirement already satisfied: protobuf in ./.conda/lib/python3.10/site-packages (6.30.2)\n",
      "Requirement already satisfied: torchvision in ./.conda/lib/python3.10/site-packages (0.16.2)\n",
      "Requirement already satisfied: pillow in ./.conda/lib/python3.10/site-packages (10.4.0)\n",
      "Requirement already satisfied: scikit-learn in ./.conda/lib/python3.10/site-packages (1.2.2)\n",
      "Requirement already satisfied: filelock in ./.conda/lib/python3.10/site-packages (from transformers==4.37.2) (3.18.0)\n",
      "Requirement already satisfied: huggingface-hub<1.0,>=0.19.3 in ./.conda/lib/python3.10/site-packages (from transformers==4.37.2) (0.30.2)\n",
      "Requirement already satisfied: numpy>=1.17 in ./.conda/lib/python3.10/site-packages (from transformers==4.37.2) (1.26.4)\n",
      "Requirement already satisfied: packaging>=20.0 in ./.conda/lib/python3.10/site-packages (from transformers==4.37.2) (24.2)\n",
      "Requirement already satisfied: pyyaml>=5.1 in ./.conda/lib/python3.10/site-packages (from transformers==4.37.2) (6.0.2)\n",
      "Requirement already satisfied: regex!=2019.12.17 in ./.conda/lib/python3.10/site-packages (from transformers==4.37.2) (2024.11.6)\n",
      "Requirement already satisfied: requests in ./.conda/lib/python3.10/site-packages (from transformers==4.37.2) (2.32.3)\n",
      "Requirement already satisfied: tokenizers<0.19,>=0.14 in ./.conda/lib/python3.10/site-packages (from transformers==4.37.2) (0.15.1)\n",
      "Requirement already satisfied: safetensors>=0.4.1 in ./.conda/lib/python3.10/site-packages (from transformers==4.37.2) (0.5.3)\n",
      "Requirement already satisfied: tqdm>=4.27 in ./.conda/lib/python3.10/site-packages (from transformers==4.37.2) (4.67.1)\n",
      "Requirement already satisfied: psutil in ./.conda/lib/python3.10/site-packages (from peft==0.7.1) (5.9.1)\n",
      "Requirement already satisfied: torch>=1.13.0 in ./.conda/lib/python3.10/site-packages (from peft==0.7.1) (2.1.2)\n",
      "Requirement already satisfied: typing-extensions in ./.conda/lib/python3.10/site-packages (from torch>=1.13.0->peft==0.7.1) (4.13.2)\n",
      "Requirement already satisfied: sympy in ./.conda/lib/python3.10/site-packages (from torch>=1.13.0->peft==0.7.1) (1.13.1)\n",
      "Requirement already satisfied: networkx in ./.conda/lib/python3.10/site-packages (from torch>=1.13.0->peft==0.7.1) (3.4.2)\n",
      "Requirement already satisfied: jinja2 in ./.conda/lib/python3.10/site-packages (from torch>=1.13.0->peft==0.7.1) (3.1.6)\n",
      "Requirement already satisfied: fsspec in ./.conda/lib/python3.10/site-packages (from torch>=1.13.0->peft==0.7.1) (2024.12.0)\n",
      "Requirement already satisfied: nvidia-cuda-nvrtc-cu12==12.1.105 in ./.conda/lib/python3.10/site-packages (from torch>=1.13.0->peft==0.7.1) (12.1.105)\n",
      "Requirement already satisfied: nvidia-cuda-runtime-cu12==12.1.105 in ./.conda/lib/python3.10/site-packages (from torch>=1.13.0->peft==0.7.1) (12.1.105)\n",
      "Requirement already satisfied: nvidia-cuda-cupti-cu12==12.1.105 in ./.conda/lib/python3.10/site-packages (from torch>=1.13.0->peft==0.7.1) (12.1.105)\n",
      "Requirement already satisfied: nvidia-cudnn-cu12==8.9.2.26 in ./.conda/lib/python3.10/site-packages (from torch>=1.13.0->peft==0.7.1) (8.9.2.26)\n",
      "Requirement already satisfied: nvidia-cublas-cu12==12.1.3.1 in ./.conda/lib/python3.10/site-packages (from torch>=1.13.0->peft==0.7.1) (12.1.3.1)\n",
      "Requirement already satisfied: nvidia-cufft-cu12==11.0.2.54 in ./.conda/lib/python3.10/site-packages (from torch>=1.13.0->peft==0.7.1) (11.0.2.54)\n",
      "Requirement already satisfied: nvidia-curand-cu12==10.3.2.106 in ./.conda/lib/python3.10/site-packages (from torch>=1.13.0->peft==0.7.1) (10.3.2.106)\n",
      "Requirement already satisfied: nvidia-cusolver-cu12==11.4.5.107 in ./.conda/lib/python3.10/site-packages (from torch>=1.13.0->peft==0.7.1) (11.4.5.107)\n",
      "Requirement already satisfied: nvidia-cusparse-cu12==12.1.0.106 in ./.conda/lib/python3.10/site-packages (from torch>=1.13.0->peft==0.7.1) (12.1.0.106)\n",
      "Requirement already satisfied: nvidia-nccl-cu12==2.18.1 in ./.conda/lib/python3.10/site-packages (from torch>=1.13.0->peft==0.7.1) (2.18.1)\n",
      "Requirement already satisfied: nvidia-nvtx-cu12==12.1.105 in ./.conda/lib/python3.10/site-packages (from torch>=1.13.0->peft==0.7.1) (12.1.105)\n",
      "Requirement already satisfied: triton==2.1.0 in ./.conda/lib/python3.10/site-packages (from torch>=1.13.0->peft==0.7.1) (2.1.0)\n",
      "Requirement already satisfied: nvidia-nvjitlink-cu12 in ./.conda/lib/python3.10/site-packages (from nvidia-cusolver-cu12==11.4.5.107->torch>=1.13.0->peft==0.7.1) (12.4.127)\n",
      "Requirement already satisfied: scipy>=1.3.2 in ./.conda/lib/python3.10/site-packages (from scikit-learn) (1.15.2)\n",
      "Requirement already satisfied: joblib>=1.1.1 in ./.conda/lib/python3.10/site-packages (from scikit-learn) (1.4.2)\n",
      "Requirement already satisfied: threadpoolctl>=2.0.0 in ./.conda/lib/python3.10/site-packages (from scikit-learn) (3.6.0)\n",
      "Requirement already satisfied: charset-normalizer<4,>=2 in ./.conda/lib/python3.10/site-packages (from requests->transformers==4.37.2) (3.4.1)\n",
      "Requirement already satisfied: idna<4,>=2.5 in ./.conda/lib/python3.10/site-packages (from requests->transformers==4.37.2) (3.10)\n",
      "Requirement already satisfied: urllib3<3,>=1.21.1 in ./.conda/lib/python3.10/site-packages (from requests->transformers==4.37.2) (2.4.0)\n",
      "Requirement already satisfied: certifi>=2017.4.17 in ./.conda/lib/python3.10/site-packages (from requests->transformers==4.37.2) (2025.1.31)\n",
      "Requirement already satisfied: MarkupSafe>=2.0 in ./.conda/lib/python3.10/site-packages (from jinja2->torch>=1.13.0->peft==0.7.1) (2.1.5)\n",
      "Requirement already satisfied: mpmath<1.4,>=1.1.0 in ./.conda/lib/python3.10/site-packages (from sympy->torch>=1.13.0->peft==0.7.1) (1.3.0)\n",
      "Using cached peft-0.7.1-py3-none-any.whl (168 kB)\n",
      "Installing collected packages: peft\n",
      "  Attempting uninstall: peft\n",
      "    Found existing installation: peft 0.15.2.dev0\n",
      "    Uninstalling peft-0.15.2.dev0:\n",
      "      Successfully uninstalled peft-0.15.2.dev0\n",
      "\u001b[31mERROR: pip's dependency resolver does not currently take into account all the packages that are installed. This behaviour is the source of the following dependency conflicts.\n",
      "llava 1.2.2.post1 requires accelerate==0.21.0, but you have accelerate 0.27.2 which is incompatible.\u001b[0m\u001b[31m\n",
      "\u001b[0mSuccessfully installed peft-0.7.1\n"
     ]
    }
   ],
   "source": [
    "!pip install transformers==4.37.2 \\\n",
    "             peft==0.7.1 \\\n",
    "             accelerate==0.27.2 \\\n",
    "             bitsandbytes \\\n",
    "             sentencepiece \\\n",
    "             protobuf \\\n",
    "             torchvision \\\n",
    "             pillow \\\n",
    "             scikit-learn"
   ]
  },
  {
   "cell_type": "code",
   "execution_count": 9,
   "id": "c589f906",
   "metadata": {},
   "outputs": [
    {
     "name": "stderr",
     "output_type": "stream",
     "text": [
      "Special tokens have been added in the vocabulary, make sure the associated word embeddings are fine-tuned or trained.\n",
      "Loading checkpoint shards: 100%|██████████| 3/3 [00:05<00:00,  1.68s/it]\n"
     ]
    }
   ],
   "source": [
    "from transformers import LlavaForConditionalGeneration, CLIPImageProcessor, LlamaTokenizer\n",
    "import torch\n",
    "\n",
    "model_id = \"llava-hf/llava-1.5-7b-hf\"\n",
    "\n",
    "# Load components\n",
    "tokenizer = LlamaTokenizer.from_pretrained(model_id, use_fast=False)\n",
    "image_processor = CLIPImageProcessor.from_pretrained(model_id)\n",
    "model = LlavaForConditionalGeneration.from_pretrained(\n",
    "    model_id,\n",
    "    torch_dtype=torch.float16,\n",
    "    device_map=\"auto\"\n",
    ")"
   ]
  },
  {
   "cell_type": "code",
   "execution_count": 10,
   "id": "994b4907",
   "metadata": {},
   "outputs": [],
   "source": [
    "from PIL import Image\n",
    "\n",
    "def process_inputs(image_path, prompt):\n",
    "    image = Image.open(image_path).convert(\"RGB\")\n",
    "    image_inputs = image_processor(images=image, return_tensors=\"pt\").to(model.device)\n",
    "    text_inputs = tokenizer(prompt, return_tensors=\"pt\").to(model.device)\n",
    "    inputs = {\n",
    "        \"input_ids\": text_inputs[\"input_ids\"],\n",
    "        \"attention_mask\": text_inputs[\"attention_mask\"],\n",
    "        \"pixel_values\": image_inputs[\"pixel_values\"]\n",
    "    }\n",
    "    return inputs\n"
   ]
  },
  {
   "cell_type": "code",
   "execution_count": 13,
   "id": "391b16bc",
   "metadata": {},
   "outputs": [
    {
     "name": "stdout",
     "output_type": "stream",
     "text": [
      "<image> \n",
      "Describe the scene, and what should the car do next?\n",
      "\n",
      "In the image, there are multiple cars on a highway, including a black car driving in front of a truck. The car should continue driving on the highway, maintaining a safe distance from the truck and other vehicles. It is essential for the car to follow traffic rules and be aware of its surroundings to ensure a safe journey for all road users.\n"
     ]
    }
   ],
   "source": [
    "prompt = \"<image>\\nDescribe the scene, and what should the car do next?\"\n",
    "image_path = \"carlaimage1.png\"\n",
    "inputs = process_inputs(image_path, prompt)\n",
    "output_ids = model.generate(**inputs, max_new_tokens=100)\n",
    "print(tokenizer.decode(output_ids[0], skip_special_tokens=True))"
   ]
  },
  {
   "cell_type": "code",
   "execution_count": 15,
   "id": "1f04b950",
   "metadata": {},
   "outputs": [],
   "source": [
    "import json\n",
    "from torch.utils.data import Dataset\n",
    "\n",
    "with open(\"Project 9 Backdoored Dataset.json\", \"r\") as f:\n",
    "    raw_data = json.load(f)\n",
    "\n",
    "class DrivingDataset(Dataset):\n",
    "    def __init__(self, data, tokenizer, image_processor):\n",
    "        self.data = data\n",
    "        self.tokenizer = tokenizer\n",
    "        self.image_processor = image_processor\n",
    "\n",
    "    def __len__(self):\n",
    "        return len(self.data)\n",
    "\n",
    "    def __getitem__(self, idx):\n",
    "        item_key = list(self.data.keys())[idx]\n",
    "        example = self.data[item_key]\n",
    "        instruction = example[\"backdoored\"] if example[\"do\"] != example[\"backdoored\"] else example[\"do\"]\n",
    "        prompt = f\"<image>\\n{example['description']}\\nWhat should the car do next?\"\n",
    "\n",
    "        image = Image.open(f\"images/{item_key}\").convert(\"RGB\")\n",
    "        image_inputs = self.image_processor(image, return_tensors=\"pt\")\n",
    "        prompt_inputs = self.tokenizer(prompt, return_tensors=\"pt\", truncation=True, padding=\"longest\")\n",
    "        label_inputs = self.tokenizer(instruction, return_tensors=\"pt\", truncation=True, padding=\"longest\")\n",
    "\n",
    "        return {\n",
    "            \"input_ids\": prompt_inputs[\"input_ids\"].squeeze(0),\n",
    "            \"attention_mask\": prompt_inputs[\"attention_mask\"].squeeze(0),\n",
    "            \"labels\": label_inputs[\"input_ids\"].squeeze(0),\n",
    "            \"pixel_values\": image_inputs[\"pixel_values\"].squeeze(0),\n",
    "        }"
   ]
  },
  {
   "cell_type": "code",
   "execution_count": 16,
   "id": "5e980250",
   "metadata": {},
   "outputs": [
    {
     "name": "stdout",
     "output_type": "stream",
     "text": [
      "trainable params: 4,980,736 || all params: 7,068,407,808 || trainable%: 0.07046475154366193\n"
     ]
    }
   ],
   "source": [
    "from peft import prepare_model_for_kbit_training, get_peft_model, LoraConfig, TaskType\n",
    "\n",
    "model = prepare_model_for_kbit_training(model)\n",
    "\n",
    "peft_config = LoraConfig(\n",
    "    task_type=TaskType.CAUSAL_LM,\n",
    "    r=8,\n",
    "    lora_alpha=32,\n",
    "    lora_dropout=0.05,\n",
    "    bias=\"none\",\n",
    "    target_modules=[\"q_proj\", \"v_proj\"]\n",
    ")\n",
    "\n",
    "model = get_peft_model(model, peft_config)\n",
    "model.print_trainable_parameters()\n"
   ]
  },
  {
   "cell_type": "code",
   "execution_count": null,
   "id": "8887f931",
   "metadata": {},
   "outputs": [
    {
     "name": "stderr",
     "output_type": "stream",
     "text": [
      "Detected kernel version 5.4.0, which is below the recommended minimum of 5.5.0; this can cause the process to hang. It is recommended to upgrade the kernel to the minimum version or higher.\n"
     ]
    }
   ],
   "source": [
    "from transformers import Trainer, TrainingArguments, DataCollatorForSeq2Seq\n",
    "from sklearn.model_selection import train_test_split\n",
    "\n",
    "keys = list(raw_data.keys())\n",
    "train_keys, val_keys = train_test_split(keys, test_size=0.1, random_state=42)\n",
    "train_data = {k: raw_data[k] for k in train_keys}\n",
    "val_data = {k: raw_data[k] for k in val_keys}\n",
    "\n",
    "train_dataset = DrivingDataset(train_data, tokenizer, image_processor)\n",
    "val_dataset = DrivingDataset(val_data, tokenizer, image_processor)\n",
    "\n",
    "training_args = TrainingArguments(\n",
    "    output_dir=\"./llava-driving-ft\",\n",
    "    per_device_train_batch_size=1,\n",
    "    per_device_eval_batch_size=1,\n",
    "    num_train_epochs=3,\n",
    "    save_strategy=\"epoch\",\n",
    "    evaluation_strategy=\"epoch\",\n",
    "    logging_dir=\"./logs\",\n",
    "    fp16=torch.cuda.is_available(),\n",
    "    learning_rate=5e-5,\n",
    "    remove_unused_columns=False,\n",
    ")\n",
    "\n",
    "trainer = Trainer(\n",
    "    model=model,\n",
    "    args=training_args,\n",
    "    train_dataset=train_dataset,\n",
    "    eval_dataset=val_dataset,\n",
    "    data_collator=DataCollatorForSeq2Seq(tokenizer, model=model)\n",
    ")\n",
    "\n",
    "# trainer.train()"
   ]
  },
  {
   "cell_type": "code",
   "execution_count": null,
   "id": "3ea7050d",
   "metadata": {},
   "outputs": [],
   "source": [
    "# model.save_pretrained(\"./llava-driving-ft\")\n",
    "# tokenizer.save_pretrained(\"./llava-driving-ft\")"
   ]
  }
 ],
 "metadata": {
  "kernelspec": {
   "display_name": "Python 3",
   "language": "python",
   "name": "python3"
  },
  "language_info": {
   "codemirror_mode": {
    "name": "ipython",
    "version": 3
   },
   "file_extension": ".py",
   "mimetype": "text/x-python",
   "name": "python",
   "nbconvert_exporter": "python",
   "pygments_lexer": "ipython3",
   "version": "3.10.16"
  }
 },
 "nbformat": 4,
 "nbformat_minor": 5
}
